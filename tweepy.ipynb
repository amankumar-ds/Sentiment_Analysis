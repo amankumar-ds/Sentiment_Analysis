{
 "cells": [
  {
   "cell_type": "code",
   "execution_count": 1,
   "metadata": {},
   "outputs": [],
   "source": [
    "import tweepy\n",
    "import numpy as np\n",
    "import pandas as pd\n",
    "import psycopg2\n",
    "import psycopg2.extras\n",
    "import creds as c\n",
    "import nltk"
   ]
  },
  {
   "cell_type": "code",
   "execution_count": 2,
   "metadata": {},
   "outputs": [
    {
     "name": "stdout",
     "output_type": "stream",
     "text": [
      "                                               Tweets\n",
      "0   RT @elonmusk: Plaid Model S ships next month h...\n",
      "1   Plaid Model X has the quickest acceleration of...\n",
      "2   Plaid Model S is the first production car to a...\n",
      "3   You can play The Witcher 3, Cyberpunk &amp; ma...\n",
      "4   New Model S &amp; Model X just launched\\n\\nDet...\n",
      "5        Also, Model 3 frunks https://t.co/Up848EP3mk\n",
      "6   Stamping Model Y body parts at our Fremont fac...\n",
      "7   欢迎! Model Y deliveries in China have officiall...\n",
      "8   Come work on cell / battery production at Giga...\n",
      "9   The best crash is no crash — with Autopilot en...\n",
      "10  Large crumple zones, rigid body structure &amp...\n",
      "11  Model Y awarded 5-star safety rating in every ...\n",
      "12  RT @TonyChoMrMagic: I just installed the large...\n",
      "13  The 7-seater option is now available for order...\n",
      "14  Model Y Standard Range is now available to ord...\n",
      "15  In 2020, we produced and delivered half a mill...\n",
      "16  Order solar panels before the solar tax credit...\n",
      "17  20k Superchargers and counting https://t.co/ur...\n",
      "18  There's no place like home..especially if it h...\n",
      "19  In-car footage from Sunday’s Plaid Model S run...\n"
     ]
    }
   ],
   "source": [
    "# Authorization to consumer key and consumer secret \n",
    "auth = tweepy.OAuthHandler(c.consumer_key, c.consumer_secret) \n",
    "# Access to user's access key and access secret \n",
    "auth.set_access_token(c.access_key, c.access_secret) \n",
    "api = tweepy.API(auth) \n",
    "\n",
    "tweets = api.user_timeline('tesla', count = 20) \n",
    "        \n",
    "df = pd.DataFrame(data=[tweet.text for tweet in tweets], columns = ['Tweets'])\n",
    "print(df.head(20))"
   ]
  },
  {
   "cell_type": "code",
   "execution_count": 3,
   "metadata": {},
   "outputs": [
    {
     "data": {
      "text/plain": [
       "0     RT @elonmusk: Plaid Model S ships next month h...\n",
       "1     Plaid Model X has the quickest acceleration of...\n",
       "2     Plaid Model S is the first production car to a...\n",
       "3     You can play The Witcher 3, Cyberpunk &amp; ma...\n",
       "4     New Model S &amp; Model X just launched\\n\\nDet...\n",
       "5          Also, Model 3 frunks https://t.co/Up848EP3mk\n",
       "6     Stamping Model Y body parts at our Fremont fac...\n",
       "7     欢迎! Model Y deliveries in China have officiall...\n",
       "8     Come work on cell / battery production at Giga...\n",
       "9     The best crash is no crash — with Autopilot en...\n",
       "10    Large crumple zones, rigid body structure &amp...\n",
       "11    Model Y awarded 5-star safety rating in every ...\n",
       "12    RT @TonyChoMrMagic: I just installed the large...\n",
       "13    The 7-seater option is now available for order...\n",
       "14    Model Y Standard Range is now available to ord...\n",
       "15    In 2020, we produced and delivered half a mill...\n",
       "16    Order solar panels before the solar tax credit...\n",
       "17    20k Superchargers and counting https://t.co/ur...\n",
       "18    There's no place like home..especially if it h...\n",
       "19    In-car footage from Sunday’s Plaid Model S run...\n",
       "Name: Tweets, dtype: object"
      ]
     },
     "execution_count": 3,
     "metadata": {},
     "output_type": "execute_result"
    }
   ],
   "source": [
    "df['Tweets']"
   ]
  },
  {
   "cell_type": "code",
   "execution_count": 4,
   "metadata": {},
   "outputs": [],
   "source": [
    "df['cleaned_tweets'] =df['Tweets'].replace(\"[^a-zA-Z]\",\" \",regex=True)\n",
    "df['removing_https'] = df['cleaned_tweets'].str.replace(r'http.*$', '', case=False)\n",
    "df['lowercase'] = df['removing_https'].apply(lambda x: \" \".join(x.lower() for x in x.split()))\n",
    "df['punctuation'] = df['lowercase'].str.replace(r'[^\\w\\s]', '')\n",
    "\n",
    "\n",
    "from nltk.corpus import stopwords\n",
    "stop_words = stopwords.words('english')\n",
    "df['review_nopunc_nostop'] = df['punctuation'].apply(lambda x: \" \".join(x for x in x.split() if x not in stop_words))\n",
    "\n",
    "from textblob import Word\n",
    "# Lemmatize final review format\n",
    "df['lemmatized'] = df['review_nopunc_nostop']\\\n",
    ".apply(lambda x: \" \".join([Word(word).lemmatize() for word in x.split()]))"
   ]
  },
  {
   "cell_type": "code",
   "execution_count": 5,
   "metadata": {},
   "outputs": [],
   "source": [
    "from nltk.sentiment.vader import SentimentIntensityAnalyzer\n",
    "sia = SentimentIntensityAnalyzer()\n",
    "df['Sentiment'] = df.lemmatized.apply(lambda x: sia.polarity_scores(x)['compound'])\n",
    "df1 = df[['Tweets','Sentiment']]"
   ]
  },
  {
   "cell_type": "code",
   "execution_count": 6,
   "metadata": {},
   "outputs": [],
   "source": [
    "param_dic = {\n",
    "    \"host\"      : \"localhost\",\n",
    "    \"database\"  : \"sentiment_analysis\",\n",
    "    \"user\"      : \"postgres\",\n",
    "    \"password\"  : \"Kumar@711\"\n",
    "}"
   ]
  },
  {
   "cell_type": "code",
   "execution_count": 7,
   "metadata": {},
   "outputs": [
    {
     "name": "stdout",
     "output_type": "stream",
     "text": [
      "Connecting to the PostgreSQL database...\n",
      "Connection successful\n"
     ]
    }
   ],
   "source": [
    "def connect(params_dic):\n",
    "    \"\"\" Connect to the PostgreSQL database server \"\"\"\n",
    "    conn = None\n",
    "    try:\n",
    "        # connect to the PostgreSQL server\n",
    "        print('Connecting to the PostgreSQL database...')\n",
    "        conn = psycopg2.connect(**params_dic)\n",
    "    except (Exception, psycopg2.DatabaseError) as error:\n",
    "        print(error)\n",
    "        sys.exit(1) \n",
    "    print(\"Connection successful\")\n",
    "    return conn\n",
    "conn = connect(param_dic)"
   ]
  },
  {
   "cell_type": "code",
   "execution_count": 8,
   "metadata": {},
   "outputs": [],
   "source": [
    "cursor = conn.cursor()\n",
    "cursor.execute(\"DROP TABLE IF EXISTS tesla_tweets\")\n",
    "\n",
    "#Creating table as per requirement\n",
    "sql ='''CREATE TABLE tesla_tweets(\n",
    "   Sno SERIAL NOT NULL,\n",
    "   Tweets TEXT NOT NULL,\n",
    "   Sentiment FLOAT NOT NULL\n",
    "   )'''\n",
    "cursor.execute(sql)"
   ]
  },
  {
   "cell_type": "code",
   "execution_count": 9,
   "metadata": {},
   "outputs": [],
   "source": [
    "def fcn(df,table,cur):\n",
    "    \n",
    "    \n",
    "    if len(df) > 0:\n",
    "        df_columns = list(df)\n",
    "          # create (col1,col2,...)\n",
    "        columns = \",\".join(df_columns)\n",
    "\n",
    "          # create VALUES('%s', '%s\",...) one '%s' per column\n",
    "        values = \"VALUES({})\".format(\",\".join([\"%s\" for _ in df_columns])) \n",
    "\n",
    "           #create INSERT INTO table (columns) VALUES('%s',...)\n",
    "        insert_stmt = \"INSERT INTO {} ({}) {}\".format(table,columns,values)\n",
    "\n",
    "        cur = conn.cursor()\n",
    "        psycopg2.extras.execute_batch(cur, insert_stmt, df.values)\n",
    "        conn.commit()\n",
    "        cur.close()"
   ]
  },
  {
   "cell_type": "code",
   "execution_count": 10,
   "metadata": {},
   "outputs": [],
   "source": [
    "cur = conn.cursor()\n",
    "fcn(df1,'tesla_tweets',cur)"
   ]
  },
  {
   "cell_type": "code",
   "execution_count": 11,
   "metadata": {},
   "outputs": [
    {
     "name": "stdout",
     "output_type": "stream",
     "text": [
      "1. Tweet : RT @elonmusk: Plaid Model S ships next month https://t.co/HFUPTnQiPB\n",
      "Sentiment : 0.0\n",
      "2. Tweet : Plaid Model X has the quickest acceleration of any SUV by far, at 2.5 seconds 0-60\n",
      "Sentiment : 0.0\n",
      "3. Tweet : Plaid Model S is the first production car to achieve 0-60 in under 2 seconds\n",
      "Sentiment : 0.0\n",
      "4. Tweet : You can play The Witcher 3, Cyberpunk &amp; many more\n",
      "Sentiment : 0.34\n",
      "5. Tweet : New Model S &amp; Model X just launched\n",
      "\n",
      "Details https://t.co/7Ol1BvJoj8\n",
      "Sentiment : 0.128\n",
      "6. Tweet : Also, Model 3 frunks https://t.co/Up848EP3mk\n",
      "Sentiment : 0.0\n",
      "7. Tweet : Stamping Model Y body parts at our Fremont factory https://t.co/qbLrYowJRC\n",
      "Sentiment : 0.0\n",
      "8. Tweet : 欢迎! Model Y deliveries in China have officially begun 🚘🇨🇳 https://t.co/fG5aax1k2b\n",
      "Sentiment : 0.0\n",
      "9. Tweet : Come work on cell / battery production at Giga Texas &amp; Giga Berlin! https://t.co/PhsI5bb0uD https://t.co/jEUatMLDmE\n",
      "Sentiment : 0.0\n",
      "10. Tweet : The best crash is no crash — with Autopilot enabled, you are 7x less likely to be involved in an accident.\n",
      "\n",
      "Comes s… https://t.co/SX6L1XqIVa\n",
      "Sentiment : -0.5106\n",
      "11. Tweet : Large crumple zones, rigid body structure &amp; low center of gravity really make a difference https://t.co/Gmwoh7a1gz\n",
      "Sentiment : -0.3818\n",
      "12. Tweet : Model Y awarded 5-star safety rating in every category!\n",
      "https://t.co/dgbQWofpjf\n",
      "Sentiment : 0.6705\n",
      "13. Tweet : RT @TonyChoMrMagic: I just installed the largest (44KW) solar roof in Florida  @teslaenergy @ ChoZen Retreat @livechozen, Thank you @elonmu…\n",
      "Sentiment : 0.5106\n",
      "14. Tweet : The 7-seater option is now available for order on Model Y https://t.co/XLu84G3GJc\n",
      "Sentiment : 0.0\n",
      "15. Tweet : Model Y Standard Range is now available to order for $41,990\n",
      " \n",
      "- 244 mile range (EPA est.)\n",
      "- Rear-wheel drive\n",
      "- 0-6… https://t.co/FI1VWXAxQX\n",
      "Sentiment : 0.0\n",
      "16. Tweet : In 2020, we produced and delivered half a million cars. Huge thanks to all those who made this possible.\n",
      "https://t.co/q43vz6RMhd\n",
      "Sentiment : 0.6369\n",
      "17. Tweet : Order solar panels before the solar tax credit drops at the end of this year. Pair with Powerwall to experience no… https://t.co/SRmsKlvQrx\n",
      "Sentiment : 0.128\n",
      "18. Tweet : 20k Superchargers and counting https://t.co/urudyt9Eui\n",
      "Sentiment : 0.0\n",
      "19. Tweet : There's no place like home..especially if it has a Solar Roof.\n",
      "\n",
      "This Kansas ranch got theirs installed in 4 days.\n",
      "Sentiment : 0.3612\n",
      "20. Tweet : In-car footage from Sunday’s Plaid Model S run at Laguna Seca https://t.co/rwQDBFCWoH\n",
      "Sentiment : 0.0\n"
     ]
    }
   ],
   "source": [
    "cur.execute(\"select * from tesla_tweets\")\n",
    "output = cur.fetchall()\n",
    "\n",
    "for i in output:\n",
    "    print(i[0], end = \". \")\n",
    "    print(\"Tweet :\", i[1])\n",
    "    print(\"Sentiment :\", i[2])"
   ]
  }
 ],
 "metadata": {
  "kernelspec": {
   "display_name": "Python 3",
   "language": "python",
   "name": "python3"
  },
  "language_info": {
   "codemirror_mode": {
    "name": "ipython",
    "version": 3
   },
   "file_extension": ".py",
   "mimetype": "text/x-python",
   "name": "python",
   "nbconvert_exporter": "python",
   "pygments_lexer": "ipython3",
   "version": "3.8.3"
  }
 },
 "nbformat": 4,
 "nbformat_minor": 4
}
